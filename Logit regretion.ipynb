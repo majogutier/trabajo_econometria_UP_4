{
 "cells": [
  {
   "cell_type": "code",
   "execution_count": 2,
   "metadata": {},
   "outputs": [
    {
     "name": "stderr",
     "output_type": "stream",
     "text": [
      "C:\\Users\\luism\\Anaconda3\\lib\\site-packages\\statsmodels\\tools\\_testing.py:19: FutureWarning: pandas.util.testing is deprecated. Use the functions in the public API at pandas.testing instead.\n",
      "  import pandas.util.testing as tm\n"
     ]
    }
   ],
   "source": [
    "import json\n",
    "import pandas as pd\n",
    "import urllib\n",
    "from urllib.request import urlopen\n",
    "from bs4 import BeautifulSoup\n",
    "import re\n",
    "import numpy as np\n",
    "import matplotlib.pyplot as plt \n",
    "import unicodedata\n",
    "import statsmodels.api as sm\n",
    "import seaborn as sns\n",
    "import winsound"
   ]
  },
  {
   "cell_type": "code",
   "execution_count": 3,
   "metadata": {},
   "outputs": [],
   "source": [
    "balanceo= \"/Users/luism/Desktop/Phyton/Trabajo_econometria7.xls\""
   ]
  },
  {
   "cell_type": "code",
   "execution_count": 4,
   "metadata": {},
   "outputs": [],
   "source": [
    "columns1= ['Clave_de_entidad',\n",
    "          'Entidad_federativa',\n",
    "          'Clave_del_minicipio',\n",
    "           'Municipio',\n",
    "          'Pobreza_2015%',\n",
    "          'Población_2020',\n",
    "          'Vivienda_jefatura_femenina%',\n",
    "          'Desocupación',\n",
    "           'Años_escolaridad_promedio_2015',\n",
    "          'Casos_feminicidio_100mil habitantes',\n",
    "          'Y']\n"
   ]
  },
  {
   "cell_type": "code",
   "execution_count": 5,
   "metadata": {},
   "outputs": [
    {
     "data": {
      "text/html": [
       "<div>\n",
       "<style scoped>\n",
       "    .dataframe tbody tr th:only-of-type {\n",
       "        vertical-align: middle;\n",
       "    }\n",
       "\n",
       "    .dataframe tbody tr th {\n",
       "        vertical-align: top;\n",
       "    }\n",
       "\n",
       "    .dataframe thead th {\n",
       "        text-align: right;\n",
       "    }\n",
       "</style>\n",
       "<table border=\"1\" class=\"dataframe\">\n",
       "  <thead>\n",
       "    <tr style=\"text-align: right;\">\n",
       "      <th></th>\n",
       "      <th>clave_entidad</th>\n",
       "      <th>entidad_federativa</th>\n",
       "      <th>clave_municipio</th>\n",
       "      <th>municipio</th>\n",
       "      <th>pobreza</th>\n",
       "      <th>pob</th>\n",
       "      <th>Viviendas con jefe(a) del hogar mujer_tasa</th>\n",
       "      <th>Desempleo</th>\n",
       "      <th>Años de escolaridad promedio</th>\n",
       "      <th>Casos de feminicidio total_tasa</th>\n",
       "      <th>Y</th>\n",
       "    </tr>\n",
       "  </thead>\n",
       "  <tbody>\n",
       "    <tr>\n",
       "      <th>0</th>\n",
       "      <td>1</td>\n",
       "      <td>Aguascalientes</td>\n",
       "      <td>1001</td>\n",
       "      <td>Aguascalientes</td>\n",
       "      <td>26.1</td>\n",
       "      <td>877190</td>\n",
       "      <td>27.826717</td>\n",
       "      <td>3.9</td>\n",
       "      <td>10.218263</td>\n",
       "      <td>0.570002</td>\n",
       "      <td>0</td>\n",
       "    </tr>\n",
       "    <tr>\n",
       "      <th>1</th>\n",
       "      <td>1</td>\n",
       "      <td>Aguascalientes</td>\n",
       "      <td>1002</td>\n",
       "      <td>Asientos</td>\n",
       "      <td>54.0</td>\n",
       "      <td>46464</td>\n",
       "      <td>22.054325</td>\n",
       "      <td>5.8</td>\n",
       "      <td>7.848674</td>\n",
       "      <td>2.152204</td>\n",
       "      <td>0</td>\n",
       "    </tr>\n",
       "    <tr>\n",
       "      <th>2</th>\n",
       "      <td>1</td>\n",
       "      <td>Aguascalientes</td>\n",
       "      <td>1003</td>\n",
       "      <td>Calvillo</td>\n",
       "      <td>56.8</td>\n",
       "      <td>56048</td>\n",
       "      <td>25.595826</td>\n",
       "      <td>3.7</td>\n",
       "      <td>7.457012</td>\n",
       "      <td>0.000000</td>\n",
       "      <td>0</td>\n",
       "    </tr>\n",
       "    <tr>\n",
       "      <th>3</th>\n",
       "      <td>1</td>\n",
       "      <td>Aguascalientes</td>\n",
       "      <td>1004</td>\n",
       "      <td>Cosío</td>\n",
       "      <td>43.2</td>\n",
       "      <td>15577</td>\n",
       "      <td>21.170787</td>\n",
       "      <td>5.0</td>\n",
       "      <td>8.565525</td>\n",
       "      <td>0.000000</td>\n",
       "      <td>0</td>\n",
       "    </tr>\n",
       "    <tr>\n",
       "      <th>4</th>\n",
       "      <td>1</td>\n",
       "      <td>Aguascalientes</td>\n",
       "      <td>1005</td>\n",
       "      <td>Jesús María</td>\n",
       "      <td>25.0</td>\n",
       "      <td>120405</td>\n",
       "      <td>19.892083</td>\n",
       "      <td>2.4</td>\n",
       "      <td>9.464593</td>\n",
       "      <td>2.491591</td>\n",
       "      <td>0</td>\n",
       "    </tr>\n",
       "    <tr>\n",
       "      <th>...</th>\n",
       "      <td>...</td>\n",
       "      <td>...</td>\n",
       "      <td>...</td>\n",
       "      <td>...</td>\n",
       "      <td>...</td>\n",
       "      <td>...</td>\n",
       "      <td>...</td>\n",
       "      <td>...</td>\n",
       "      <td>...</td>\n",
       "      <td>...</td>\n",
       "      <td>...</td>\n",
       "    </tr>\n",
       "    <tr>\n",
       "      <th>2452</th>\n",
       "      <td>32</td>\n",
       "      <td>Zacatecas</td>\n",
       "      <td>32054</td>\n",
       "      <td>Villa Hidalgo</td>\n",
       "      <td>71.8</td>\n",
       "      <td>19155</td>\n",
       "      <td>17.037195</td>\n",
       "      <td>4.7</td>\n",
       "      <td>7.538700</td>\n",
       "      <td>0.000000</td>\n",
       "      <td>0</td>\n",
       "    </tr>\n",
       "    <tr>\n",
       "      <th>2453</th>\n",
       "      <td>32</td>\n",
       "      <td>Zacatecas</td>\n",
       "      <td>32055</td>\n",
       "      <td>Villanueva</td>\n",
       "      <td>61.0</td>\n",
       "      <td>30240</td>\n",
       "      <td>23.027014</td>\n",
       "      <td>9.3</td>\n",
       "      <td>7.376544</td>\n",
       "      <td>3.306878</td>\n",
       "      <td>1</td>\n",
       "    </tr>\n",
       "    <tr>\n",
       "      <th>2454</th>\n",
       "      <td>32</td>\n",
       "      <td>Zacatecas</td>\n",
       "      <td>32056</td>\n",
       "      <td>Zacatecas</td>\n",
       "      <td>25.9</td>\n",
       "      <td>146147</td>\n",
       "      <td>30.216721</td>\n",
       "      <td>4.2</td>\n",
       "      <td>11.245040</td>\n",
       "      <td>2.736970</td>\n",
       "      <td>0</td>\n",
       "    </tr>\n",
       "    <tr>\n",
       "      <th>2455</th>\n",
       "      <td>32</td>\n",
       "      <td>Zacatecas</td>\n",
       "      <td>32057</td>\n",
       "      <td>Trancoso</td>\n",
       "      <td>63.1</td>\n",
       "      <td>19413</td>\n",
       "      <td>19.346110</td>\n",
       "      <td>5.6</td>\n",
       "      <td>7.951075</td>\n",
       "      <td>0.000000</td>\n",
       "      <td>0</td>\n",
       "    </tr>\n",
       "    <tr>\n",
       "      <th>2456</th>\n",
       "      <td>32</td>\n",
       "      <td>Zacatecas</td>\n",
       "      <td>32058</td>\n",
       "      <td>Santa María de la Paz</td>\n",
       "      <td>57.4</td>\n",
       "      <td>2656</td>\n",
       "      <td>20.489691</td>\n",
       "      <td>9.4</td>\n",
       "      <td>7.271660</td>\n",
       "      <td>0.000000</td>\n",
       "      <td>0</td>\n",
       "    </tr>\n",
       "  </tbody>\n",
       "</table>\n",
       "<p>2457 rows × 11 columns</p>\n",
       "</div>"
      ],
      "text/plain": [
       "      clave_entidad entidad_federativa  clave_municipio  \\\n",
       "0                 1     Aguascalientes             1001   \n",
       "1                 1     Aguascalientes             1002   \n",
       "2                 1     Aguascalientes             1003   \n",
       "3                 1     Aguascalientes             1004   \n",
       "4                 1     Aguascalientes             1005   \n",
       "...             ...                ...              ...   \n",
       "2452             32          Zacatecas            32054   \n",
       "2453             32          Zacatecas            32055   \n",
       "2454             32          Zacatecas            32056   \n",
       "2455             32          Zacatecas            32057   \n",
       "2456             32          Zacatecas            32058   \n",
       "\n",
       "                  municipio  pobreza     pob  \\\n",
       "0            Aguascalientes     26.1  877190   \n",
       "1                  Asientos     54.0   46464   \n",
       "2                  Calvillo     56.8   56048   \n",
       "3                     Cosío     43.2   15577   \n",
       "4               Jesús María     25.0  120405   \n",
       "...                     ...      ...     ...   \n",
       "2452          Villa Hidalgo     71.8   19155   \n",
       "2453             Villanueva     61.0   30240   \n",
       "2454              Zacatecas     25.9  146147   \n",
       "2455               Trancoso     63.1   19413   \n",
       "2456  Santa María de la Paz     57.4    2656   \n",
       "\n",
       "      Viviendas con jefe(a) del hogar mujer_tasa  Desempleo  \\\n",
       "0                                      27.826717        3.9   \n",
       "1                                      22.054325        5.8   \n",
       "2                                      25.595826        3.7   \n",
       "3                                      21.170787        5.0   \n",
       "4                                      19.892083        2.4   \n",
       "...                                          ...        ...   \n",
       "2452                                   17.037195        4.7   \n",
       "2453                                   23.027014        9.3   \n",
       "2454                                   30.216721        4.2   \n",
       "2455                                   19.346110        5.6   \n",
       "2456                                   20.489691        9.4   \n",
       "\n",
       "      Años de escolaridad promedio   Casos de feminicidio total_tasa  Y  \n",
       "0                         10.218263                         0.570002  0  \n",
       "1                          7.848674                         2.152204  0  \n",
       "2                          7.457012                         0.000000  0  \n",
       "3                          8.565525                         0.000000  0  \n",
       "4                          9.464593                         2.491591  0  \n",
       "...                             ...                              ... ..  \n",
       "2452                       7.538700                         0.000000  0  \n",
       "2453                       7.376544                         3.306878  1  \n",
       "2454                      11.245040                         2.736970  0  \n",
       "2455                       7.951075                         0.000000  0  \n",
       "2456                       7.271660                         0.000000  0  \n",
       "\n",
       "[2457 rows x 11 columns]"
      ]
     },
     "execution_count": 5,
     "metadata": {},
     "output_type": "execute_result"
    }
   ],
   "source": [
    "modelo=pd.read_excel(balanceo)\n",
    "modelo\n",
    "\n"
   ]
  },
  {
   "cell_type": "code",
   "execution_count": 6,
   "metadata": {},
   "outputs": [
    {
     "data": {
      "text/html": [
       "<div>\n",
       "<style scoped>\n",
       "    .dataframe tbody tr th:only-of-type {\n",
       "        vertical-align: middle;\n",
       "    }\n",
       "\n",
       "    .dataframe tbody tr th {\n",
       "        vertical-align: top;\n",
       "    }\n",
       "\n",
       "    .dataframe thead th {\n",
       "        text-align: right;\n",
       "    }\n",
       "</style>\n",
       "<table border=\"1\" class=\"dataframe\">\n",
       "  <thead>\n",
       "    <tr style=\"text-align: right;\">\n",
       "      <th></th>\n",
       "      <th>Clave_de_entidad</th>\n",
       "      <th>Entidad_federativa</th>\n",
       "      <th>Clave_del_minicipio</th>\n",
       "      <th>Municipio</th>\n",
       "      <th>Pobreza_2015%</th>\n",
       "      <th>Población_2020</th>\n",
       "      <th>Vivienda_jefatura_femenina%</th>\n",
       "      <th>Desocupación</th>\n",
       "      <th>Años_escolaridad_promedio_2015</th>\n",
       "      <th>Casos_feminicidio_100mil habitantes</th>\n",
       "      <th>Y</th>\n",
       "    </tr>\n",
       "  </thead>\n",
       "  <tbody>\n",
       "    <tr>\n",
       "      <th>0</th>\n",
       "      <td>1</td>\n",
       "      <td>Aguascalientes</td>\n",
       "      <td>1001</td>\n",
       "      <td>Aguascalientes</td>\n",
       "      <td>26.1</td>\n",
       "      <td>877190</td>\n",
       "      <td>27.826717</td>\n",
       "      <td>3.9</td>\n",
       "      <td>10.218263</td>\n",
       "      <td>0.570002</td>\n",
       "      <td>0</td>\n",
       "    </tr>\n",
       "    <tr>\n",
       "      <th>1</th>\n",
       "      <td>1</td>\n",
       "      <td>Aguascalientes</td>\n",
       "      <td>1002</td>\n",
       "      <td>Asientos</td>\n",
       "      <td>54.0</td>\n",
       "      <td>46464</td>\n",
       "      <td>22.054325</td>\n",
       "      <td>5.8</td>\n",
       "      <td>7.848674</td>\n",
       "      <td>2.152204</td>\n",
       "      <td>0</td>\n",
       "    </tr>\n",
       "    <tr>\n",
       "      <th>2</th>\n",
       "      <td>1</td>\n",
       "      <td>Aguascalientes</td>\n",
       "      <td>1003</td>\n",
       "      <td>Calvillo</td>\n",
       "      <td>56.8</td>\n",
       "      <td>56048</td>\n",
       "      <td>25.595826</td>\n",
       "      <td>3.7</td>\n",
       "      <td>7.457012</td>\n",
       "      <td>0.000000</td>\n",
       "      <td>0</td>\n",
       "    </tr>\n",
       "    <tr>\n",
       "      <th>3</th>\n",
       "      <td>1</td>\n",
       "      <td>Aguascalientes</td>\n",
       "      <td>1004</td>\n",
       "      <td>Cosío</td>\n",
       "      <td>43.2</td>\n",
       "      <td>15577</td>\n",
       "      <td>21.170787</td>\n",
       "      <td>5.0</td>\n",
       "      <td>8.565525</td>\n",
       "      <td>0.000000</td>\n",
       "      <td>0</td>\n",
       "    </tr>\n",
       "    <tr>\n",
       "      <th>4</th>\n",
       "      <td>1</td>\n",
       "      <td>Aguascalientes</td>\n",
       "      <td>1005</td>\n",
       "      <td>Jesús María</td>\n",
       "      <td>25.0</td>\n",
       "      <td>120405</td>\n",
       "      <td>19.892083</td>\n",
       "      <td>2.4</td>\n",
       "      <td>9.464593</td>\n",
       "      <td>2.491591</td>\n",
       "      <td>0</td>\n",
       "    </tr>\n",
       "    <tr>\n",
       "      <th>...</th>\n",
       "      <td>...</td>\n",
       "      <td>...</td>\n",
       "      <td>...</td>\n",
       "      <td>...</td>\n",
       "      <td>...</td>\n",
       "      <td>...</td>\n",
       "      <td>...</td>\n",
       "      <td>...</td>\n",
       "      <td>...</td>\n",
       "      <td>...</td>\n",
       "      <td>...</td>\n",
       "    </tr>\n",
       "    <tr>\n",
       "      <th>2452</th>\n",
       "      <td>32</td>\n",
       "      <td>Zacatecas</td>\n",
       "      <td>32054</td>\n",
       "      <td>Villa Hidalgo</td>\n",
       "      <td>71.8</td>\n",
       "      <td>19155</td>\n",
       "      <td>17.037195</td>\n",
       "      <td>4.7</td>\n",
       "      <td>7.538700</td>\n",
       "      <td>0.000000</td>\n",
       "      <td>0</td>\n",
       "    </tr>\n",
       "    <tr>\n",
       "      <th>2453</th>\n",
       "      <td>32</td>\n",
       "      <td>Zacatecas</td>\n",
       "      <td>32055</td>\n",
       "      <td>Villanueva</td>\n",
       "      <td>61.0</td>\n",
       "      <td>30240</td>\n",
       "      <td>23.027014</td>\n",
       "      <td>9.3</td>\n",
       "      <td>7.376544</td>\n",
       "      <td>3.306878</td>\n",
       "      <td>1</td>\n",
       "    </tr>\n",
       "    <tr>\n",
       "      <th>2454</th>\n",
       "      <td>32</td>\n",
       "      <td>Zacatecas</td>\n",
       "      <td>32056</td>\n",
       "      <td>Zacatecas</td>\n",
       "      <td>25.9</td>\n",
       "      <td>146147</td>\n",
       "      <td>30.216721</td>\n",
       "      <td>4.2</td>\n",
       "      <td>11.245040</td>\n",
       "      <td>2.736970</td>\n",
       "      <td>0</td>\n",
       "    </tr>\n",
       "    <tr>\n",
       "      <th>2455</th>\n",
       "      <td>32</td>\n",
       "      <td>Zacatecas</td>\n",
       "      <td>32057</td>\n",
       "      <td>Trancoso</td>\n",
       "      <td>63.1</td>\n",
       "      <td>19413</td>\n",
       "      <td>19.346110</td>\n",
       "      <td>5.6</td>\n",
       "      <td>7.951075</td>\n",
       "      <td>0.000000</td>\n",
       "      <td>0</td>\n",
       "    </tr>\n",
       "    <tr>\n",
       "      <th>2456</th>\n",
       "      <td>32</td>\n",
       "      <td>Zacatecas</td>\n",
       "      <td>32058</td>\n",
       "      <td>Santa María de la Paz</td>\n",
       "      <td>57.4</td>\n",
       "      <td>2656</td>\n",
       "      <td>20.489691</td>\n",
       "      <td>9.4</td>\n",
       "      <td>7.271660</td>\n",
       "      <td>0.000000</td>\n",
       "      <td>0</td>\n",
       "    </tr>\n",
       "  </tbody>\n",
       "</table>\n",
       "<p>2457 rows × 11 columns</p>\n",
       "</div>"
      ],
      "text/plain": [
       "      Clave_de_entidad Entidad_federativa  Clave_del_minicipio  \\\n",
       "0                    1     Aguascalientes                 1001   \n",
       "1                    1     Aguascalientes                 1002   \n",
       "2                    1     Aguascalientes                 1003   \n",
       "3                    1     Aguascalientes                 1004   \n",
       "4                    1     Aguascalientes                 1005   \n",
       "...                ...                ...                  ...   \n",
       "2452                32          Zacatecas                32054   \n",
       "2453                32          Zacatecas                32055   \n",
       "2454                32          Zacatecas                32056   \n",
       "2455                32          Zacatecas                32057   \n",
       "2456                32          Zacatecas                32058   \n",
       "\n",
       "                  Municipio  Pobreza_2015%  Población_2020  \\\n",
       "0            Aguascalientes           26.1          877190   \n",
       "1                  Asientos           54.0           46464   \n",
       "2                  Calvillo           56.8           56048   \n",
       "3                     Cosío           43.2           15577   \n",
       "4               Jesús María           25.0          120405   \n",
       "...                     ...            ...             ...   \n",
       "2452          Villa Hidalgo           71.8           19155   \n",
       "2453             Villanueva           61.0           30240   \n",
       "2454              Zacatecas           25.9          146147   \n",
       "2455               Trancoso           63.1           19413   \n",
       "2456  Santa María de la Paz           57.4            2656   \n",
       "\n",
       "      Vivienda_jefatura_femenina%  Desocupación  \\\n",
       "0                       27.826717           3.9   \n",
       "1                       22.054325           5.8   \n",
       "2                       25.595826           3.7   \n",
       "3                       21.170787           5.0   \n",
       "4                       19.892083           2.4   \n",
       "...                           ...           ...   \n",
       "2452                    17.037195           4.7   \n",
       "2453                    23.027014           9.3   \n",
       "2454                    30.216721           4.2   \n",
       "2455                    19.346110           5.6   \n",
       "2456                    20.489691           9.4   \n",
       "\n",
       "      Años_escolaridad_promedio_2015  Casos_feminicidio_100mil habitantes  Y  \n",
       "0                          10.218263                             0.570002  0  \n",
       "1                           7.848674                             2.152204  0  \n",
       "2                           7.457012                             0.000000  0  \n",
       "3                           8.565525                             0.000000  0  \n",
       "4                           9.464593                             2.491591  0  \n",
       "...                              ...                                  ... ..  \n",
       "2452                        7.538700                             0.000000  0  \n",
       "2453                        7.376544                             3.306878  1  \n",
       "2454                       11.245040                             2.736970  0  \n",
       "2455                        7.951075                             0.000000  0  \n",
       "2456                        7.271660                             0.000000  0  \n",
       "\n",
       "[2457 rows x 11 columns]"
      ]
     },
     "execution_count": 6,
     "metadata": {},
     "output_type": "execute_result"
    }
   ],
   "source": [
    "modelo.columns=columns1\n",
    "modelo"
   ]
  },
  {
   "cell_type": "code",
   "execution_count": 7,
   "metadata": {},
   "outputs": [
    {
     "data": {
      "text/plain": [
       "Clave_del_minicipio               5.417822e+07\n",
       "Pobreza_2015%                     4.795483e+02\n",
       "Población_2020                    1.933764e+10\n",
       "Vivienda_jefatura_femenina%       3.153528e+01\n",
       "Desocupación                      1.586873e+01\n",
       "Años_escolaridad_promedio_2015    2.497177e+00\n",
       "dtype: float64"
      ]
     },
     "execution_count": 7,
     "metadata": {},
     "output_type": "execute_result"
    }
   ],
   "source": [
    "datos= modelo[['Clave_del_minicipio','Pobreza_2015%','Población_2020','Vivienda_jefatura_femenina%','Desocupación','Años_escolaridad_promedio_2015']]\n",
    "datos.describe()\n",
    "datos.var()"
   ]
  },
  {
   "cell_type": "code",
   "execution_count": 8,
   "metadata": {},
   "outputs": [],
   "source": [
    "modelo.to_excel(\"/Users/luism/Desktop/Phyton/Trabajo_econometria_final.xls\")"
   ]
  },
  {
   "cell_type": "code",
   "execution_count": 9,
   "metadata": {},
   "outputs": [
    {
     "name": "stdout",
     "output_type": "stream",
     "text": [
      "Optimization terminated successfully.\n",
      "         Current function value: 0.537443\n",
      "         Iterations 5\n",
      "                           Logit Regression Results                           \n",
      "==============================================================================\n",
      "Dep. Variable:                      Y   No. Observations:                 2457\n",
      "Model:                          Logit   Df Residuals:                     2452\n",
      "Method:                           MLE   Df Model:                            4\n",
      "Date:                Sat, 23 May 2020   Pseudo R-squ.:                 0.03868\n",
      "Time:                        19:57:07   Log-Likelihood:                -1320.5\n",
      "converged:                       True   LL-Null:                       -1373.6\n",
      "Covariance Type:            nonrobust   LLR p-value:                 4.532e-22\n",
      "==================================================================================================\n",
      "                                     coef    std err          z      P>|z|      [0.025      0.975]\n",
      "--------------------------------------------------------------------------------------------------\n",
      "const                             -1.0791      0.445     -2.425      0.015      -1.951      -0.207\n",
      "Pobreza_2015%                     -0.0181      0.003     -6.455      0.000      -0.024      -0.013\n",
      "Vivienda_jefatura_femenina%        0.0287      0.009      3.205      0.001       0.011       0.046\n",
      "Desocupación                       0.0119      0.013      0.929      0.353      -0.013       0.037\n",
      "Años_escolaridad_promedio_2015     0.0393      0.038      1.022      0.307      -0.036       0.115\n",
      "==================================================================================================\n"
     ]
    }
   ],
   "source": [
    "Y= modelo['Y']\n",
    "X= modelo[['Pobreza_2015%'.format(),\n",
    "           'Vivienda_jefatura_femenina%'.format(),\n",
    "           'Desocupación'.format(),\n",
    "           'Años_escolaridad_promedio_2015'.format()]] #recordar el espacio\n",
    "\n",
    "X=sm.add_constant(X)\n",
    "model=sm.Logit(Y,X).fit()\n",
    "print(model.summary())\n"
   ]
  },
  {
   "cell_type": "code",
   "execution_count": 10,
   "metadata": {},
   "outputs": [],
   "source": [
    "Y_hat_ps = model.predict(X)\n"
   ]
  },
  {
   "cell_type": "code",
   "execution_count": 11,
   "metadata": {},
   "outputs": [
    {
     "data": {
      "text/plain": [
       "Text(0.5, 0, 'Y_hat_ps')"
      ]
     },
     "execution_count": 11,
     "metadata": {},
     "output_type": "execute_result"
    },
    {
     "data": {
      "image/png": "[encoded data removed]",
      "text/plain": [
       "<Figure size 432x288 with 1 Axes>"
      ]
     },
     "metadata": {
      "needs_background": "light"
     },
     "output_type": "display_data"
    }
   ],
   "source": [
    "sns.regplot(x=Y_hat_ps, y=modelo[\"Y\"], data=modelo, logistic=True)\n",
    "plt.title(\"Regresión logísticae del feminicidio\")\n",
    "plt.ylabel('Y')\n",
    "plt.xlabel('Y_hat_ps')"
   ]
  },
  {
   "cell_type": "code",
   "execution_count": 12,
   "metadata": {},
   "outputs": [
    {
     "data": {
      "text/plain": [
       "0       0.424534\n",
       "1       0.260314\n",
       "2       0.262367\n",
       "3       0.298182\n",
       "4       0.363647\n",
       "          ...   \n",
       "2452    0.177226\n",
       "2453    0.246075\n",
       "2454    0.453119\n",
       "2455    0.216724\n",
       "2456    0.244092\n",
       "Length: 2457, dtype: float64"
      ]
     },
     "execution_count": 12,
     "metadata": {},
     "output_type": "execute_result"
    }
   ],
   "source": [
    "Y_hat_ps"
   ]
  },
  {
   "cell_type": "markdown",
   "metadata": {},
   "source": [
    "## Histohrama pobreza"
   ]
  },
  {
   "cell_type": "code",
   "execution_count": 13,
   "metadata": {},
   "outputs": [
    {
     "data": {
      "text/plain": [
       "(array([1709.,  229.,  159.,  107.]),\n",
       " array([0, 2, 4, 6, 8]),\n",
       " <a list of 4 Patch objects>)"
      ]
     },
     "execution_count": 13,
     "metadata": {},
     "output_type": "execute_result"
    },
    {
     "data": {
      "image/png": "[encoded data removed]",
      "text/plain": [
       "<Figure size 432x288 with 1 Axes>"
      ]
     },
     "metadata": {
      "needs_background": "light"
     },
     "output_type": "display_data"
    }
   ],
   "source": [
    "plt.hist(modelo['Casos_feminicidio_100mil habitantes'],bins=[0,2,4,6,8])\n"
   ]
  },
  {
   "cell_type": "code",
   "execution_count": 14,
   "metadata": {},
   "outputs": [
    {
     "data": {
      "text/plain": [
       "(array([ 23.,  46., 102., 185., 261., 340., 355., 434., 345., 366.]),\n",
       " array([ 0.  ,  9.99, 19.98, 29.97, 39.96, 49.95, 59.94, 69.93, 79.92,\n",
       "        89.91, 99.9 ]),\n",
       " <a list of 10 Patch objects>)"
      ]
     },
     "execution_count": 14,
     "metadata": {},
     "output_type": "execute_result"
    },
    {
     "data": {
      "image/png": "[encoded data removed]",
      "text/plain": [
       "<Figure size 432x288 with 1 Axes>"
      ]
     },
     "metadata": {
      "needs_background": "light"
     },
     "output_type": "display_data"
    }
   ],
   "source": [
    "plt.hist(modelo['Pobreza_2015%'])\n"
   ]
  },
  {
   "cell_type": "markdown",
   "metadata": {},
   "source": [
    "## Viviendas con jefe(a) del hogar mujer_tasa"
   ]
  },
  {
   "cell_type": "code",
   "execution_count": 15,
   "metadata": {},
   "outputs": [
    {
     "data": {
      "text/plain": [
       "(array([  7.,  65., 244., 568., 702., 529., 244.,  71.,  24.,   3.]),\n",
       " array([ 7.56013746, 11.65560886, 15.75108026, 19.84655167, 23.94202307,\n",
       "        28.03749447, 32.13296587, 36.22843728, 40.32390868, 44.41938008,\n",
       "        48.51485149]),\n",
       " <a list of 10 Patch objects>)"
      ]
     },
     "execution_count": 15,
     "metadata": {},
     "output_type": "execute_result"
    },
    {
     "data": {
      "image/png": "[encoded data removed]",
      "text/plain": [
       "<Figure size 432x288 with 1 Axes>"
      ]
     },
     "metadata": {
      "needs_background": "light"
     },
     "output_type": "display_data"
    }
   ],
   "source": [
    "plt.hist(modelo['Vivienda_jefatura_femenina%'])\n",
    "\n"
   ]
  },
  {
   "cell_type": "markdown",
   "metadata": {},
   "source": [
    "## Histograma Desempleo"
   ]
  },
  {
   "cell_type": "code",
   "execution_count": 16,
   "metadata": {},
   "outputs": [
    {
     "data": {
      "text/plain": [
       "(array([1.758e+03, 5.520e+02, 9.700e+01, 3.000e+01, 7.000e+00, 4.000e+00,\n",
       "        5.000e+00, 1.000e+00, 2.000e+00, 1.000e+00]),\n",
       " array([ 0.  ,  5.19, 10.38, 15.57, 20.76, 25.95, 31.14, 36.33, 41.52,\n",
       "        46.71, 51.9 ]),\n",
       " <a list of 10 Patch objects>)"
      ]
     },
     "execution_count": 16,
     "metadata": {},
     "output_type": "execute_result"
    },
    {
     "data": {
      "image/png": "[encoded data removed]",
      "text/plain": [
       "<Figure size 432x288 with 1 Axes>"
      ]
     },
     "metadata": {
      "needs_background": "light"
     },
     "output_type": "display_data"
    }
   ],
   "source": [
    "plt.hist(modelo['Desocupación'])\n"
   ]
  },
  {
   "cell_type": "markdown",
   "metadata": {},
   "source": [
    "## Histograma Años de escolaridad promedio "
   ]
  },
  {
   "cell_type": "code",
   "execution_count": 17,
   "metadata": {},
   "outputs": [
    {
     "data": {
      "text/plain": [
       "(array([ 11.,   0.,  29., 268., 829., 779., 386., 131.,  21.,   3.]),\n",
       " array([ 0.        ,  1.38622994,  2.77245989,  4.15868983,  5.54491977,\n",
       "         6.93114972,  8.31737966,  9.70360961, 11.08983955, 12.47606949,\n",
       "        13.86229944]),\n",
       " <a list of 10 Patch objects>)"
      ]
     },
     "execution_count": 17,
     "metadata": {},
     "output_type": "execute_result"
    },
    {
     "data": {
      "image/png": "[encoded data removed]",
      "text/plain": [
       "<Figure size 432x288 with 1 Axes>"
      ]
     },
     "metadata": {
      "needs_background": "light"
     },
     "output_type": "display_data"
    }
   ],
   "source": [
    "plt.hist(modelo['Años_escolaridad_promedio_2015'])\n"
   ]
  },
  {
   "cell_type": "markdown",
   "metadata": {},
   "source": [
    "## Histograma Y"
   ]
  },
  {
   "cell_type": "code",
   "execution_count": 18,
   "metadata": {},
   "outputs": [
    {
     "data": {
      "text/plain": [
       "(array([1850.,    0.,    0.,    0.,    0.,    0.,    0.,    0.,    0.,\n",
       "         607.]),\n",
       " array([0. , 0.1, 0.2, 0.3, 0.4, 0.5, 0.6, 0.7, 0.8, 0.9, 1. ]),\n",
       " <a list of 10 Patch objects>)"
      ]
     },
     "execution_count": 18,
     "metadata": {},
     "output_type": "execute_result"
    },
    {
     "data": {
      "image/png": "[encoded data removed]",
      "text/plain": [
       "<Figure size 432x288 with 1 Axes>"
      ]
     },
     "metadata": {
      "needs_background": "light"
     },
     "output_type": "display_data"
    }
   ],
   "source": [
    "plt.hist(modelo['Y'])"
   ]
  },
  {
   "cell_type": "code",
   "execution_count": 19,
   "metadata": {},
   "outputs": [
    {
     "data": {
      "text/plain": [
       "<matplotlib.axes._subplots.AxesSubplot at 0x2c5df5b4c88>"
      ]
     },
     "execution_count": 19,
     "metadata": {},
     "output_type": "execute_result"
    },
    {
     "data": {
      "image/png": "[encoded data removed]",
      "text/plain": [
       "<Figure size 432x288 with 1 Axes>"
      ]
     },
     "metadata": {
      "needs_background": "light"
     },
     "output_type": "display_data"
    }
   ],
   "source": [
    "modelo.plot(kind=\"scatter\",x='Pobreza_2015%',y='Casos_feminicidio_100mil habitantes') \n",
    "\n",
    "\n"
   ]
  },
  {
   "cell_type": "code",
   "execution_count": 20,
   "metadata": {},
   "outputs": [
    {
     "data": {
      "text/plain": [
       "<matplotlib.axes._subplots.AxesSubplot at 0x2c5dc0f4f48>"
      ]
     },
     "execution_count": 20,
     "metadata": {},
     "output_type": "execute_result"
    },
    {
     "data": {
      "image/png": "[encoded data removed]",
      "text/plain": [
       "<Figure size 432x288 with 1 Axes>"
      ]
     },
     "metadata": {
      "needs_background": "light"
     },
     "output_type": "display_data"
    }
   ],
   "source": [
    "modelo.plot(kind=\"scatter\",x='Vivienda_jefatura_femenina%',y='Casos_feminicidio_100mil habitantes')\n"
   ]
  },
  {
   "cell_type": "code",
   "execution_count": 21,
   "metadata": {},
   "outputs": [
    {
     "data": {
      "text/plain": [
       "<matplotlib.axes._subplots.AxesSubplot at 0x2c5dbfbe788>"
      ]
     },
     "execution_count": 21,
     "metadata": {},
     "output_type": "execute_result"
    },
    {
     "data": {
      "image/png": "[encoded data removed]",
      "text/plain": [
       "<Figure size 432x288 with 1 Axes>"
      ]
     },
     "metadata": {
      "needs_background": "light"
     },
     "output_type": "display_data"
    }
   ],
   "source": [
    "modelo.plot(kind=\"scatter\",x='Desocupación',y='Casos_feminicidio_100mil habitantes')\n"
   ]
  },
  {
   "cell_type": "code",
   "execution_count": 22,
   "metadata": {},
   "outputs": [
    {
     "data": {
      "text/plain": [
       "<matplotlib.axes._subplots.AxesSubplot at 0x2c5dbef0808>"
      ]
     },
     "execution_count": 22,
     "metadata": {},
     "output_type": "execute_result"
    },
    {
     "data": {
      "image/png": "[encoded data removed]",
      "text/plain": [
       "<Figure size 432x288 with 1 Axes>"
      ]
     },
     "metadata": {
      "needs_background": "light"
     },
     "output_type": "display_data"
    }
   ],
   "source": [
    "modelo.plot(kind=\"scatter\",x='Años_escolaridad_promedio_2015',y='Casos_feminicidio_100mil habitantes')\n"
   ]
  },
  {
   "cell_type": "code",
   "execution_count": 23,
   "metadata": {},
   "outputs": [
    {
     "data": {
      "text/plain": [
       "<matplotlib.axes._subplots.AxesSubplot at 0x2c5dbf69f88>"
      ]
     },
     "execution_count": 23,
     "metadata": {},
     "output_type": "execute_result"
    },
    {
     "data": {
      "image/png": "[encoded data removed]",
      "text/plain": [
       "<Figure size 432x288 with 1 Axes>"
      ]
     },
     "metadata": {
      "needs_background": "light"
     },
     "output_type": "display_data"
    }
   ],
   "source": [
    "modelo.plot(kind=\"scatter\",x='Pobreza_2015%',y='Desocupación') \n"
   ]
  },
  {
   "cell_type": "code",
   "execution_count": 24,
   "metadata": {},
   "outputs": [
    {
     "data": {
      "text/plain": [
       "<matplotlib.axes._subplots.AxesSubplot at 0x2c5dc050b88>"
      ]
     },
     "execution_count": 24,
     "metadata": {},
     "output_type": "execute_result"
    },
    {
     "data": {
      "image/png": "[encoded data removed]",
      "text/plain": [
       "<Figure size 432x288 with 1 Axes>"
      ]
     },
     "metadata": {
      "needs_background": "light"
     },
     "output_type": "display_data"
    }
   ],
   "source": [
    "modelo.plot(kind=\"scatter\",x='Años_escolaridad_promedio_2015',y='Pobreza_2015%') \n",
    "\n",
    "\n"
   ]
  },
  {
   "cell_type": "code",
   "execution_count": null,
   "metadata": {},
   "outputs": [],
   "source": []
  },
  {
   "cell_type": "markdown",
   "metadata": {},
   "source": [
    "# Validación "
   ]
  },
  {
   "cell_type": "markdown",
   "metadata": {},
   "source": [
    "### threshold = .5"
   ]
  },
  {
   "cell_type": "code",
   "execution_count": 60,
   "metadata": {},
   "outputs": [
    {
     "name": "stdout",
     "output_type": "stream",
     "text": [
      "Fitness: 0.7496947496947497\n",
      "607\n",
      "14\n"
     ]
    }
   ],
   "source": [
    "suma_correct = 0\n",
    "suma_y_1 = 0\n",
    "threshold = .5\n",
    "for i in range(2457):\n",
    "    true_y = modelo['Y'.format()][i]\n",
    "    y_hat_p = Y_hat_ps[i]\n",
    "    if y_hat_p >= threshold:\n",
    "        y_hat = 1\n",
    "    else:\n",
    "        y_hat = 0\n",
    "    if true_y == y_hat:\n",
    "        suma_correct += 1\n",
    "    suma_y_1 += y_hat\n",
    "print('Fitness:', suma_correct / 2457)\n",
    "print(modelo['Y'.format()].sum())\n",
    "print(suma_y_1)"
   ]
  },
  {
   "cell_type": "markdown",
   "metadata": {},
   "source": [
    "### threshold = success rate"
   ]
  },
  {
   "cell_type": "code",
   "execution_count": 26,
   "metadata": {},
   "outputs": [
    {
     "name": "stdout",
     "output_type": "stream",
     "text": [
      "Fitness: 0.6145706145706146\n",
      "607\n",
      "1094\n"
     ]
    }
   ],
   "source": [
    "suma_correct = 0\n",
    "suma_y_1 = 0\n",
    "threshold = modelo['Y'.format()].sum() / 2457\n",
    "for i in range(2457):\n",
    "    true_y = modelo['Y'.format()][i]\n",
    "    y_hat_p = Y_hat_ps[i]\n",
    "    if y_hat_p >= threshold:\n",
    "        y_hat = 1\n",
    "    else:\n",
    "        y_hat = 0\n",
    "    if true_y == y_hat:\n",
    "        suma_correct += 1\n",
    "    suma_y_1 += y_hat\n",
    "print('Fitness:', suma_correct / 2457)\n",
    "print(modelo['Y'.format()].sum())\n",
    "print(suma_y_1)"
   ]
  },
  {
   "cell_type": "code",
   "execution_count": 27,
   "metadata": {},
   "outputs": [],
   "source": [
    "success_rates = []\n",
    "for threshold in np.linspace(0, 1, 100):\n",
    "    suma_correct = 0\n",
    "    suma_y_1 = 0\n",
    "    for i in range(2457):\n",
    "        true_y = modelo['Y'.format()][i]\n",
    "        y_hat_p = Y_hat_ps[i]\n",
    "        if y_hat_p >= threshold:\n",
    "            y_hat = 1\n",
    "        else:\n",
    "            y_hat = 0\n",
    "        if true_y == y_hat:\n",
    "            suma_correct += 1\n",
    "        suma_y_1 += y_hat\n",
    "    success_rate = (suma_y_1) / 2457\n",
    "    success_rates.append(success_rate)\n",
    "\n"
   ]
  },
  {
   "cell_type": "code",
   "execution_count": 28,
   "metadata": {},
   "outputs": [
    {
     "data": {
      "image/png": "[encoded data removed]",
      "text/plain": [
       "<Figure size 720x360 with 1 Axes>"
      ]
     },
     "metadata": {
      "needs_background": "light"
     },
     "output_type": "display_data"
    },
    {
     "name": "stdout",
     "output_type": "stream",
     "text": [
      "\n",
      "Done!\n"
     ]
    }
   ],
   "source": [
    "fig = plt.figure(figsize=(10, 5))\n",
    "axis = plt.gca()\n",
    "plt.plot(list(np.linspace(0, 1, 100)), success_rates)\n",
    "plt.axhline( modelo['Y'.format()].sum() / 2457, color='red', linewidth=1)\n",
    "plt.xlim(0, 1)\n",
    "fig.tight_layout()\n",
    "plt.show()\n",
    "plt.close(plt.gcf())\n",
    "print('\\nDone!')\n",
    "\n",
    "\n"
   ]
  },
  {
   "cell_type": "code",
   "execution_count": 29,
   "metadata": {},
   "outputs": [
    {
     "name": "stderr",
     "output_type": "stream",
     "text": [
      "C:\\Users\\luism\\Anaconda3\\lib\\site-packages\\ipykernel_launcher.py:11: MatplotlibDeprecationWarning: Saw kwargs ['c', 'color'] which are all aliases for 'color'.  Kept value from 'color'.  Passing multiple aliases for the same property will raise a TypeError in 3.3.\n",
      "  # This is added back by InteractiveShellApp.init_path()\n",
      "C:\\Users\\luism\\Anaconda3\\lib\\site-packages\\ipykernel_launcher.py:12: MatplotlibDeprecationWarning: Saw kwargs ['c', 'color'] which are all aliases for 'color'.  Kept value from 'color'.  Passing multiple aliases for the same property will raise a TypeError in 3.3.\n",
      "  if sys.path[0] == '':\n"
     ]
    },
    {
     "data": {
      "text/plain": [
       "Text(0.5, 0, 'Pobreza_2015%')"
      ]
     },
     "execution_count": 29,
     "metadata": {},
     "output_type": "execute_result"
    },
    {
     "data": {
      "image/png": "[encoded data removed]",
      "text/plain": [
       "<Figure size 360x360 with 1 Axes>"
      ]
     },
     "metadata": {
      "needs_background": "light"
     },
     "output_type": "display_data"
    }
   ],
   "source": [
    "fig=plt.figure(figsize=(5,5))\n",
    "Y=modelo['Desocupación']\n",
    "X=modelo['Pobreza_2015%']\n",
    "X_2=[]\n",
    "Y_2=[]\n",
    "for i, x in enumerate(X):\n",
    "    y_feminicidio=modelo['Y'.format()][i]\n",
    "    if y_feminicidio== 1:\n",
    "        X_2.append(x)\n",
    "        Y_2.append(Y[i])\n",
    "plt.plot(X,Y ,'o', c='black', markersize=1,color='blue')\n",
    "plt.plot(X_2,Y_2,'o' ,c='black', markersize=1,color='red')\n",
    "plt.show\n",
    "\n",
    "plt.title(\"Desocupación y pobreza municipal\")\n",
    "\n",
    "plt.ylabel('Desocupación')\n",
    "plt.xlabel('Pobreza_2015%')\n"
   ]
  },
  {
   "cell_type": "code",
   "execution_count": 30,
   "metadata": {},
   "outputs": [
    {
     "name": "stderr",
     "output_type": "stream",
     "text": [
      "C:\\Users\\luism\\Anaconda3\\lib\\site-packages\\ipykernel_launcher.py:11: MatplotlibDeprecationWarning: Saw kwargs ['c', 'color'] which are all aliases for 'color'.  Kept value from 'color'.  Passing multiple aliases for the same property will raise a TypeError in 3.3.\n",
      "  # This is added back by InteractiveShellApp.init_path()\n",
      "C:\\Users\\luism\\Anaconda3\\lib\\site-packages\\ipykernel_launcher.py:12: MatplotlibDeprecationWarning: Saw kwargs ['c', 'color'] which are all aliases for 'color'.  Kept value from 'color'.  Passing multiple aliases for the same property will raise a TypeError in 3.3.\n",
      "  if sys.path[0] == '':\n"
     ]
    },
    {
     "data": {
      "text/plain": [
       "Text(0.5, 0, 'Años_escolaridad_promedio_2015')"
      ]
     },
     "execution_count": 30,
     "metadata": {},
     "output_type": "execute_result"
    },
    {
     "data": {
      "image/png": "[encoded data removed]",
      "text/plain": [
       "<Figure size 360x360 with 1 Axes>"
      ]
     },
     "metadata": {
      "needs_background": "light"
     },
     "output_type": "display_data"
    }
   ],
   "source": [
    "fig=plt.figure(figsize=(5,5))\n",
    "Y=modelo['Pobreza_2015%']\n",
    "X=modelo['Años_escolaridad_promedio_2015']\n",
    "X_2=[]\n",
    "Y_2=[]\n",
    "for i, x in enumerate(X):\n",
    "    y_feminicidio=modelo['Y'.format()][i]\n",
    "    if y_feminicidio== 1:\n",
    "        X_2.append(x)\n",
    "        Y_2.append(Y[i])\n",
    "plt.plot(X,Y ,'o', c='black', markersize=1,color='blue')\n",
    "plt.plot(X_2,Y_2,'o' ,c='black', markersize=1,color='red')\n",
    "plt.show\n",
    "plt.title(\"Años de escolaridad promedio de 2015 y pobreza\")\n",
    "\n",
    "plt.ylabel('Pobreza_2015%')\n",
    "plt.xlabel('Años_escolaridad_promedio_2015')"
   ]
  },
  {
   "cell_type": "code",
   "execution_count": 31,
   "metadata": {},
   "outputs": [
    {
     "data": {
      "text/html": [
       "<div>\n",
       "<style scoped>\n",
       "    .dataframe tbody tr th:only-of-type {\n",
       "        vertical-align: middle;\n",
       "    }\n",
       "\n",
       "    .dataframe tbody tr th {\n",
       "        vertical-align: top;\n",
       "    }\n",
       "\n",
       "    .dataframe thead th {\n",
       "        text-align: right;\n",
       "    }\n",
       "</style>\n",
       "<table border=\"1\" class=\"dataframe\">\n",
       "  <thead>\n",
       "    <tr style=\"text-align: right;\">\n",
       "      <th></th>\n",
       "      <th>0</th>\n",
       "    </tr>\n",
       "  </thead>\n",
       "  <tbody>\n",
       "    <tr>\n",
       "      <th>const</th>\n",
       "      <td>-1.079125</td>\n",
       "    </tr>\n",
       "    <tr>\n",
       "      <th>Pobreza_2015%</th>\n",
       "      <td>-0.018068</td>\n",
       "    </tr>\n",
       "    <tr>\n",
       "      <th>Vivienda_jefatura_femenina%</th>\n",
       "      <td>0.028705</td>\n",
       "    </tr>\n",
       "    <tr>\n",
       "      <th>Desocupación</th>\n",
       "      <td>0.011933</td>\n",
       "    </tr>\n",
       "    <tr>\n",
       "      <th>Años_escolaridad_promedio_2015</th>\n",
       "      <td>0.039262</td>\n",
       "    </tr>\n",
       "  </tbody>\n",
       "</table>\n",
       "</div>"
      ],
      "text/plain": [
       "                                       0\n",
       "const                          -1.079125\n",
       "Pobreza_2015%                  -0.018068\n",
       "Vivienda_jefatura_femenina%     0.028705\n",
       "Desocupación                    0.011933\n",
       "Años_escolaridad_promedio_2015  0.039262"
      ]
     },
     "execution_count": 31,
     "metadata": {},
     "output_type": "execute_result"
    }
   ],
   "source": [
    "betas=model.params\n",
    "betas1= pd.DataFrame(betas)\n",
    "betas1\n",
    "\n"
   ]
  },
  {
   "cell_type": "markdown",
   "metadata": {},
   "source": [
    "## DEFINICIÓN DE VARIABLES"
   ]
  },
  {
   "cell_type": "code",
   "execution_count": 32,
   "metadata": {},
   "outputs": [],
   "source": [
    "def sigmoide_G(x):\n",
    "    rv = 1 / (1 + np.exp(-x)) \n",
    "    return rv"
   ]
  },
  {
   "cell_type": "code",
   "execution_count": 33,
   "metadata": {},
   "outputs": [],
   "source": [
    "\n",
    "Bo=betas1.loc['const']\n",
    "B1=betas1.loc['Pobreza_2015%']\n",
    "B2=betas1.loc['Vivienda_jefatura_femenina%']\n",
    "B3=betas1.loc['Desocupación']\n",
    "B4=betas1.loc['Años_escolaridad_promedio_2015']\n",
    "\n",
    "X1_m=modelo['Pobreza_2015%'].mean()\n",
    "X2_m=modelo['Vivienda_jefatura_femenina%'].mean()\n",
    "X3_m=modelo['Desocupación'].mean()\n",
    "X4_m=modelo['Años_escolaridad_promedio_2015'].mean()\n"
   ]
  },
  {
   "cell_type": "code",
   "execution_count": 34,
   "metadata": {},
   "outputs": [
    {
     "data": {
      "text/plain": [
       "0    0.188493\n",
       "dtype: float64"
      ]
     },
     "execution_count": 34,
     "metadata": {},
     "output_type": "execute_result"
    }
   ],
   "source": [
    "#Valor de la sigmoide\n",
    "G=sigmoide_G((Bo)+(B1*X1_m)+(B2*X2_m)+(B3*X3_m)+(B4*X4_m)*B1)\n",
    "G"
   ]
  },
  {
   "cell_type": "code",
   "execution_count": 35,
   "metadata": {},
   "outputs": [
    {
     "data": {
      "text/plain": [
       "0   -0.003406\n",
       "dtype: float64"
      ]
     },
     "execution_count": 35,
     "metadata": {},
     "output_type": "execute_result"
    }
   ],
   "source": [
    "#Efecto parcial de Pobreza\n",
    "Efecto_pobreza=G*B1\n",
    "Efecto_pobreza\n",
    "\n"
   ]
  },
  {
   "cell_type": "code",
   "execution_count": 36,
   "metadata": {},
   "outputs": [
    {
     "data": {
      "text/plain": [
       "0    0.000541\n",
       "dtype: float64"
      ]
     },
     "execution_count": 36,
     "metadata": {},
     "output_type": "execute_result"
    }
   ],
   "source": [
    "#Efecto parcial de jefaturas femeninas \n",
    "Efecto_Vivienda=G*B2*.10\n",
    "Efecto_Vivienda\n"
   ]
  },
  {
   "cell_type": "code",
   "execution_count": 49,
   "metadata": {},
   "outputs": [
    {
     "data": {
      "text/plain": [
       "0    0.002249\n",
       "dtype: float64"
      ]
     },
     "execution_count": 49,
     "metadata": {},
     "output_type": "execute_result"
    }
   ],
   "source": [
    "#Efecto parcial de la desocupación\n",
    "Efecto_Desocupación=G*B3\n",
    "\n",
    "Efecto_Desocupación\n"
   ]
  },
  {
   "cell_type": "code",
   "execution_count": 48,
   "metadata": {},
   "outputs": [
    {
     "data": {
      "text/plain": [
       "0    0.014801\n",
       "dtype: float64"
      ]
     },
     "execution_count": 48,
     "metadata": {},
     "output_type": "execute_result"
    }
   ],
   "source": [
    "#Efecto parcial de  de los años de escolaridad promedio\n",
    "Efecto_escolaridad=G*B4*2\n",
    "Efecto_escolaridad\n"
   ]
  },
  {
   "cell_type": "markdown",
   "metadata": {},
   "source": [
    "# PEA"
   ]
  },
  {
   "cell_type": "code",
   "execution_count": 39,
   "metadata": {},
   "outputs": [
    {
     "name": "stdout",
     "output_type": "stream",
     "text": [
      "        Logit Marginal Effects       \n",
      "=====================================\n",
      "Dep. Variable:                      Y\n",
      "Method:                          dydx\n",
      "At:                              mean\n",
      "==================================================================================================\n",
      "                                    dy/dx    std err          z      P>|z|      [0.025      0.975]\n",
      "--------------------------------------------------------------------------------------------------\n",
      "Pobreza_2015%                     -0.0033      0.001     -6.521      0.000      -0.004      -0.002\n",
      "Vivienda_jefatura_femenina%        0.0052      0.002      3.216      0.001       0.002       0.008\n",
      "Desocupación                       0.0022      0.002      0.930      0.353      -0.002       0.007\n",
      "Años_escolaridad_promedio_2015     0.0071      0.007      1.022      0.307      -0.007       0.021\n",
      "==================================================================================================\n"
     ]
    }
   ],
   "source": [
    "\n",
    "print(model.get_margeff(at=\"mean\").summary())"
   ]
  },
  {
   "cell_type": "markdown",
   "metadata": {},
   "source": [
    "## APE"
   ]
  },
  {
   "cell_type": "code",
   "execution_count": 40,
   "metadata": {},
   "outputs": [
    {
     "name": "stdout",
     "output_type": "stream",
     "text": [
      "APE         Logit Marginal Effects       \n",
      "=====================================\n",
      "Dep. Variable:                      Y\n",
      "Method:                          dydx\n",
      "At:                           overall\n",
      "==================================================================================================\n",
      "                                    dy/dx    std err          z      P>|z|      [0.025      0.975]\n",
      "--------------------------------------------------------------------------------------------------\n",
      "Pobreza_2015%                     -0.0032      0.000     -6.619      0.000      -0.004      -0.002\n",
      "Vivienda_jefatura_femenina%        0.0051      0.002      3.222      0.001       0.002       0.008\n",
      "Desocupación                       0.0021      0.002      0.930      0.352      -0.002       0.007\n",
      "Años_escolaridad_promedio_2015     0.0070      0.007      1.022      0.307      -0.006       0.020\n",
      "==================================================================================================\n"
     ]
    }
   ],
   "source": [
    "print(\"APE\",model.get_margeff().summary())"
   ]
  },
  {
   "cell_type": "code",
   "execution_count": null,
   "metadata": {},
   "outputs": [],
   "source": []
  },
  {
   "cell_type": "code",
   "execution_count": null,
   "metadata": {},
   "outputs": [],
   "source": []
  },
  {
   "cell_type": "code",
   "execution_count": null,
   "metadata": {},
   "outputs": [],
   "source": []
  },
  {
   "cell_type": "code",
   "execution_count": null,
   "metadata": {},
   "outputs": [],
   "source": []
  },
  {
   "cell_type": "code",
   "execution_count": null,
   "metadata": {},
   "outputs": [],
   "source": []
  },
  {
   "cell_type": "code",
   "execution_count": null,
   "metadata": {},
   "outputs": [],
   "source": []
  },
  {
   "cell_type": "code",
   "execution_count": null,
   "metadata": {},
   "outputs": [],
   "source": []
  },
  {
   "cell_type": "code",
   "execution_count": null,
   "metadata": {},
   "outputs": [],
   "source": []
  },
  {
   "cell_type": "code",
   "execution_count": null,
   "metadata": {},
   "outputs": [],
   "source": []
  },
  {
   "cell_type": "code",
   "execution_count": null,
   "metadata": {},
   "outputs": [],
   "source": []
  },
  {
   "cell_type": "code",
   "execution_count": null,
   "metadata": {},
   "outputs": [],
   "source": []
  },
  {
   "cell_type": "code",
   "execution_count": null,
   "metadata": {},
   "outputs": [],
   "source": []
  },
  {
   "cell_type": "code",
   "execution_count": null,
   "metadata": {},
   "outputs": [],
   "source": []
  },
  {
   "cell_type": "code",
   "execution_count": null,
   "metadata": {},
   "outputs": [],
   "source": []
  },
  {
   "cell_type": "code",
   "execution_count": null,
   "metadata": {},
   "outputs": [],
   "source": []
  },
  {
   "cell_type": "code",
   "execution_count": null,
   "metadata": {},
   "outputs": [],
   "source": []
  },
  {
   "cell_type": "code",
   "execution_count": null,
   "metadata": {},
   "outputs": [],
   "source": []
  },
  {
   "cell_type": "code",
   "execution_count": null,
   "metadata": {},
   "outputs": [],
   "source": []
  }
 ],
 "metadata": {
  "kernelspec": {
   "display_name": "Python 3",
   "language": "python",
   "name": "python3"
  },
  "language_info": {
   "codemirror_mode": {
    "name": "ipython",
    "version": 3
   },
   "file_extension": ".py",
   "mimetype": "text/x-python",
   "name": "python",
   "nbconvert_exporter": "python",
   "pygments_lexer": "ipython3",
   "version": "3.7.4"
  }
 },
 "nbformat": 4,
 "nbformat_minor": 2
}
